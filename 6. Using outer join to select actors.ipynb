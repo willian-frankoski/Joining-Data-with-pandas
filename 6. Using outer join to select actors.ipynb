{
 "cells": [
  {
   "attachments": {
    "image.png": {
     "image/png": "[encoded data removed]"
    }
   },
   "cell_type": "markdown",
   "metadata": {},
   "source": [
    "# Using outer join to select actors\n",
    "One cool aspect of using an outer join is that, because it returns all rows from both merged tables and null where they do not match, you can use it to find rows that do not have a match in the other table. To try for yourself, you have been given two tables with a list of actors from two popular movies: Iron Man 1 and Iron Man 2. Most of the actors played in both movies. Use an outer join to find actors who did not act in both movies.\n",
    "\n",
    "The Iron Man 1 table is called iron_1_actors, and Iron Man 2 table is called iron_2_actors. Both tables have been loaded for you and a few rows printed so you can see the structure.\n",
    "\n",
    "![image.png](attachment:image.png)"
   ]
  },
  {
   "cell_type": "code",
   "execution_count": 49,
   "metadata": {},
   "outputs": [],
   "source": [
    "movies=pd.read_pickle(r'datasets/movies.p')\n",
    "movies[movies['title'].str.contains('Iron Man', case='False')]\n"
   ]
  },
  {
   "cell_type": "code",
   "execution_count": 1,
   "metadata": {},
   "outputs": [
    {
     "data": {
      "text/html": [
       "<div>\n",
       "<style scoped>\n",
       "    .dataframe tbody tr th:only-of-type {\n",
       "        vertical-align: middle;\n",
       "    }\n",
       "\n",
       "    .dataframe tbody tr th {\n",
       "        vertical-align: top;\n",
       "    }\n",
       "\n",
       "    .dataframe thead th {\n",
       "        text-align: right;\n",
       "    }\n",
       "</style>\n",
       "<table border=\"1\" class=\"dataframe\">\n",
       "  <thead>\n",
       "    <tr style=\"text-align: right;\">\n",
       "      <th></th>\n",
       "      <th>character</th>\n",
       "      <th>id</th>\n",
       "      <th>name</th>\n",
       "    </tr>\n",
       "  </thead>\n",
       "  <tbody>\n",
       "    <tr>\n",
       "      <th>3</th>\n",
       "      <td>Yinsen</td>\n",
       "      <td>17857</td>\n",
       "      <td>Shaun Toub</td>\n",
       "    </tr>\n",
       "    <tr>\n",
       "      <th>4</th>\n",
       "      <td>Virginia \"Pepper\" Potts</td>\n",
       "      <td>12052</td>\n",
       "      <td>Gwyneth Paltrow</td>\n",
       "    </tr>\n",
       "    <tr>\n",
       "      <th>2</th>\n",
       "      <td>Obadiah Stane / Iron Monger</td>\n",
       "      <td>1229</td>\n",
       "      <td>Jeff Bridges</td>\n",
       "    </tr>\n",
       "    <tr>\n",
       "      <th>1</th>\n",
       "      <td>Lt. Col. James \"Rhodey\" Rhodes / War Machine</td>\n",
       "      <td>18288</td>\n",
       "      <td>Terrence Howard</td>\n",
       "    </tr>\n",
       "    <tr>\n",
       "      <th>7</th>\n",
       "      <td>Christine Everhart</td>\n",
       "      <td>57451</td>\n",
       "      <td>Leslie Bibb</td>\n",
       "    </tr>\n",
       "  </tbody>\n",
       "</table>\n",
       "</div>"
      ],
      "text/plain": [
       "                                      character     id             name\n",
       "3                                        Yinsen  17857       Shaun Toub\n",
       "4                       Virginia \"Pepper\" Potts  12052  Gwyneth Paltrow\n",
       "2                   Obadiah Stane / Iron Monger   1229     Jeff Bridges\n",
       "1  Lt. Col. James \"Rhodey\" Rhodes / War Machine  18288  Terrence Howard\n",
       "7                            Christine Everhart  57451      Leslie Bibb"
      ]
     },
     "execution_count": 1,
     "metadata": {},
     "output_type": "execute_result"
    }
   ],
   "source": [
    "import pandas as pd\n",
    "import matplotlib.pyplot as plt\n",
    "\n",
    "# Get id from Iron Man movies\n",
    "movies=pd.read_pickle(r'datasets/movies.p')\n",
    "id_iron_1 = movies[movies['title'] == 'Iron Man']['id'].values[0]\n",
    "id_iron_2 = movies[movies['title'] == 'Iron Man 2']['id'].values[0]\n",
    "\n",
    "# Get casts from both movies\n",
    "casts = pd.read_pickle(r'datasets/casts.p')\n",
    "iron_1_actors = casts[casts['movie_id'] == id_iron_1][['character', 'id', 'name']]\n",
    "iron_2_actors = casts[casts['movie_id'] == id_iron_2][['character', 'id', 'name']]\n",
    "iron_1_actors.head()"
   ]
  },
  {
   "cell_type": "code",
   "execution_count": 13,
   "metadata": {},
   "outputs": [
    {
     "data": {
      "text/html": [
       "<div>\n",
       "<style scoped>\n",
       "    .dataframe tbody tr th:only-of-type {\n",
       "        vertical-align: middle;\n",
       "    }\n",
       "\n",
       "    .dataframe tbody tr th {\n",
       "        vertical-align: top;\n",
       "    }\n",
       "\n",
       "    .dataframe thead th {\n",
       "        text-align: right;\n",
       "    }\n",
       "</style>\n",
       "<table border=\"1\" class=\"dataframe\">\n",
       "  <thead>\n",
       "    <tr style=\"text-align: right;\">\n",
       "      <th></th>\n",
       "      <th>character_1</th>\n",
       "      <th>id</th>\n",
       "      <th>name_1</th>\n",
       "      <th>character_2</th>\n",
       "      <th>name_2</th>\n",
       "    </tr>\n",
       "  </thead>\n",
       "  <tbody>\n",
       "    <tr>\n",
       "      <th>0</th>\n",
       "      <td>Yinsen</td>\n",
       "      <td>17857</td>\n",
       "      <td>Shaun Toub</td>\n",
       "      <td>NaN</td>\n",
       "      <td>NaN</td>\n",
       "    </tr>\n",
       "    <tr>\n",
       "      <th>2</th>\n",
       "      <td>Obadiah Stane / Iron Monger</td>\n",
       "      <td>1229</td>\n",
       "      <td>Jeff Bridges</td>\n",
       "      <td>NaN</td>\n",
       "      <td>NaN</td>\n",
       "    </tr>\n",
       "    <tr>\n",
       "      <th>3</th>\n",
       "      <td>Lt. Col. James \"Rhodey\" Rhodes / War Machine</td>\n",
       "      <td>18288</td>\n",
       "      <td>Terrence Howard</td>\n",
       "      <td>NaN</td>\n",
       "      <td>NaN</td>\n",
       "    </tr>\n",
       "    <tr>\n",
       "      <th>5</th>\n",
       "      <td>Raza</td>\n",
       "      <td>57452</td>\n",
       "      <td>Faran Tahir</td>\n",
       "      <td>NaN</td>\n",
       "      <td>NaN</td>\n",
       "    </tr>\n",
       "    <tr>\n",
       "      <th>8</th>\n",
       "      <td>Abu Bakaar</td>\n",
       "      <td>173810</td>\n",
       "      <td>Sayed Badreya</td>\n",
       "      <td>NaN</td>\n",
       "      <td>NaN</td>\n",
       "    </tr>\n",
       "  </tbody>\n",
       "</table>\n",
       "</div>"
      ],
      "text/plain": [
       "                                    character_1      id           name_1  \\\n",
       "0                                        Yinsen   17857       Shaun Toub   \n",
       "2                   Obadiah Stane / Iron Monger    1229     Jeff Bridges   \n",
       "3  Lt. Col. James \"Rhodey\" Rhodes / War Machine   18288  Terrence Howard   \n",
       "5                                          Raza   57452      Faran Tahir   \n",
       "8                                    Abu Bakaar  173810    Sayed Badreya   \n",
       "\n",
       "  character_2 name_2  \n",
       "0         NaN    NaN  \n",
       "2         NaN    NaN  \n",
       "3         NaN    NaN  \n",
       "5         NaN    NaN  \n",
       "8         NaN    NaN  "
      ]
     },
     "execution_count": 13,
     "metadata": {},
     "output_type": "execute_result"
    }
   ],
   "source": [
    "# Merge iron_1_actors to iron_2_actors on id with outer join using suffixes\n",
    "iron_1_and_2 = pd.merge(\n",
    "    left=iron_1_actors,\n",
    "    right=iron_2_actors,\n",
    "    on='id',\n",
    "    how='outer',\n",
    "    suffixes=['_1', '_2']\n",
    ")\n",
    "\n",
    "#iron_1_and_2[iron_1_and_2.isna().sum(axis=1)>0] # alternative method for filtering\n",
    "\n",
    "# Create an index that returns true if name_1 or name_2 are null\n",
    "#filter = (iron_1_and_2['name_1'].isnull() | iron_1_and_2['name_2'].isnull())\n",
    "filter = ((iron_1_and_2['name_1'].isnull() != iron_1_and_2['name_2'].isnull()) &\n",
    "     ((iron_1_and_2['name_1'].isnull()) | (iron_1_and_2['name_2'].isnull())))\n",
    "\n",
    "# Print the first few rows of iron_1_and_2\n",
    "iron_1_and_2[filter].head()"
   ]
  },
  {
   "cell_type": "markdown",
   "metadata": {},
   "source": [
    "Nice job! Using an outer join, you were able to pick only those rows where the actor played in only one of the two movies."
   ]
  }
 ],
 "metadata": {
  "kernelspec": {
   "display_name": "Python 3",
   "language": "python",
   "name": "python3"
  },
  "language_info": {
   "codemirror_mode": {
    "name": "ipython",
    "version": 3
   },
   "file_extension": ".py",
   "mimetype": "text/x-python",
   "name": "python",
   "nbconvert_exporter": "python",
   "pygments_lexer": "ipython3",
   "version": "3.11.3"
  },
  "orig_nbformat": 4
 },
 "nbformat": 4,
 "nbformat_minor": 2
}
